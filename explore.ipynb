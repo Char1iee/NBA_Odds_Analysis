{
 "cells": [
  {
   "cell_type": "code",
   "execution_count": null,
   "metadata": {},
   "outputs": [],
   "source": [
    "import numpy as np\n",
    "import pandas as pd\n",
    "import seaborn as sns\n",
    "import matplotlib.pyplot as plt\n"
   ]
  },
  {
   "cell_type": "code",
   "execution_count": null,
   "metadata": {},
   "outputs": [],
   "source": [
    "df = pd.read_csv(\"oddsData.csv\")\n",
    "df"
   ]
  },
  {
   "cell_type": "code",
   "execution_count": null,
   "metadata": {},
   "outputs": [],
   "source": [
    "df.shape"
   ]
  },
  {
   "cell_type": "code",
   "execution_count": null,
   "metadata": {},
   "outputs": [],
   "source": [
    "df.dtypes"
   ]
  },
  {
   "cell_type": "code",
   "execution_count": null,
   "metadata": {},
   "outputs": [],
   "source": [
    "for column_name in df.columns:\n",
    "    column = df[column_name]\n",
    "    print(column_name, \"unique values:\", column.unique(), \"\\n\")"
   ]
  },
  {
   "cell_type": "markdown",
   "metadata": {},
   "source": [
    "37,104 observations, 12 features"
   ]
  },
  {
   "cell_type": "code",
   "execution_count": null,
   "metadata": {},
   "outputs": [],
   "source": [
    "df = pd.read_csv(\"oddsData.csv\")\n",
    "pairplot = sns.pairplot(df, diag_kind='kde')\n",
    "plt.savefig(\"pairplot.png\")"
   ]
  },
  {
   "cell_type": "code",
   "execution_count": 57,
   "metadata": {},
   "outputs": [
    {
     "name": "stdout",
     "output_type": "stream",
     "text": [
      "         season     score  opponentScore  moneyLine  opponentMoneyLine  \\\n",
      "count  37104.00  37104.00       37104.00   37104.00           37104.00   \n",
      "mean    2015.23    104.03         104.03     -66.17             -66.17   \n",
      "std        4.49     13.30          13.30     605.35             605.35   \n",
      "min     2008.00     54.00          54.00  -13000.00          -13000.00   \n",
      "25%     2011.00     95.00          95.00    -240.00            -240.00   \n",
      "50%     2015.00    104.00         104.00    -110.00            -110.00   \n",
      "75%     2019.00    113.00         113.00     195.00             195.00   \n",
      "max     2023.00    168.00         168.00    6500.00            6500.00   \n",
      "\n",
      "          total    spread  secondHalfTotal  \n",
      "count  37104.00  37104.00         37104.00  \n",
      "mean     207.66      0.00           103.13  \n",
      "std       14.28      7.12             7.03  \n",
      "min      170.50    -21.50            84.00  \n",
      "25%      196.00     -5.50            97.50  \n",
      "50%      207.00      0.00           103.00  \n",
      "75%      218.50      5.50           108.00  \n",
      "max      251.00     21.50           125.00  \n"
     ]
    }
   ],
   "source": [
    "print(df.describe().round(2))"
   ]
  },
  {
   "cell_type": "code",
   "execution_count": null,
   "metadata": {},
   "outputs": [],
   "source": [
    "print(df[\"moneyLine\"].quantile([0.05, 0.95]))"
   ]
  },
  {
   "cell_type": "code",
   "execution_count": null,
   "metadata": {},
   "outputs": [],
   "source": [
    "corr = df.corr()\n",
    "heatmap = sns.heatmap(corr, vmin=-1, vmax=1, center=0, annot = True)\n",
    "plt.savefig(\"heatmap.png\")"
   ]
  }
 ],
 "metadata": {
  "kernelspec": {
   "display_name": "Python 3",
   "language": "python",
   "name": "python3"
  },
  "language_info": {
   "codemirror_mode": {
    "name": "ipython",
    "version": 3
   },
   "file_extension": ".py",
   "mimetype": "text/x-python",
   "name": "python",
   "nbconvert_exporter": "python",
   "pygments_lexer": "ipython3",
   "version": "3.10.13"
  }
 },
 "nbformat": 4,
 "nbformat_minor": 2
}
