{
 "cells": [
  {
   "cell_type": "code",
   "execution_count": null,
   "metadata": {},
   "outputs": [],
   "source": [
    "#Q-Q plot\n",
    "#TODO: debug\n",
    "\n",
    "col_len = len(df)\n",
    "theoretical_normal_quantiles = np.random.normal(loc=0, scale=1, size=col_len)\n",
    "sorted_theoretical_quantiles = np.sort(theoretical_normal_quantiles)\n",
    "\n",
    "columns = df.columns\n",
    "for col in columns:\n",
    "    sorted_df = np.sort(df['moneyLine'])\n",
    "    col_len = df[col].size\n",
    "    plt.figure(figsize=(4,4))\n",
    "    plt.scatter(sorted_theoretical_quantiles, sorted_df)\n",
    "    plt.plot(sorted_theoretical_quantiles, sorted_theoretical_quantiles)\n",
    "    plt.xlabel('Theoretical Normal Data')\n",
    "    plt.ylabel('Normal data quantiles')\n",
    "    plt.title(f'{col} Q-Q plot')\n",
    "    plt.grid(True)\n",
    "\n",
    "plt.show()"
   ]
  },
  {
   "cell_type": "code",
   "execution_count": null,
   "metadata": {},
   "outputs": [],
   "source": []
  },
  {
   "cell_type": "code",
   "execution_count": null,
   "metadata": {},
   "outputs": [],
   "source": [
    "import numpy as np\n",
    "import pandas as pd\n",
    "import seaborn as sns\n",
    "import matplotlib.pyplot as plt"
   ]
  },
  {
   "cell_type": "code",
   "execution_count": null,
   "metadata": {},
   "outputs": [],
   "source": [
    "df = pd.read_csv(\"oddsData.csv\")\n",
    "df"
   ]
  },
  {
   "cell_type": "code",
   "execution_count": null,
   "metadata": {},
   "outputs": [],
   "source": [
    "from sklearn.preprocessing import LabelEncoder\n",
    "\n",
    "encoder = LabelEncoder()\n",
    "encoder.fit(df['team'])\n",
    "df['team'] = encoder.transform(df['team'])\n",
    "df['opponent'] = encoder.transform(df['opponent'])\n",
    "\n",
    "df"
   ]
  },
  {
   "cell_type": "code",
   "execution_count": null,
   "metadata": {},
   "outputs": [],
   "source": [
    "encoder.fit(df['home/visitor'])\n",
    "df['home/visitor'] = encoder.transform(df['home/visitor'])\n",
    "\n",
    "df"
   ]
  },
  {
   "cell_type": "code",
   "execution_count": null,
   "metadata": {},
   "outputs": [],
   "source": [
    "df['date'] = pd.to_datetime(df['date'])\n",
    "df"
   ]
  },
  {
   "cell_type": "code",
   "execution_count": null,
   "metadata": {},
   "outputs": [],
   "source": [
    "df['winner'] = df['score'] < df['opponentScore']\n",
    "encoder.fit(df['winner'])\n",
    "df['winner'] = encoder.transform(df['winner'])\n",
    "df"
   ]
  },
  {
   "cell_type": "code",
   "execution_count": null,
   "metadata": {},
   "outputs": [],
   "source": [
    "from sklearn.preprocessing import MinMaxScaler, StandardScaler\n",
    "\n",
    "def standardize(column):\n",
    "    scaler = StandardScaler()\n",
    "    scaler.fit(df[column])\n",
    "    df[column] = scaler.transform(df[column])\n",
    "\n",
    "def normalize(column):\n",
    "    scaler = MinMaxScaler()\n",
    "    scaler.fit(df[column])\n",
    "    df[column] = scaler.transform(df[column])"
   ]
  },
  {
   "cell_type": "code",
   "execution_count": null,
   "metadata": {},
   "outputs": [],
   "source": []
  },
  {
   "cell_type": "code",
   "execution_count": null,
   "metadata": {},
   "outputs": [],
   "source": []
  },
  {
   "cell_type": "code",
   "execution_count": null,
   "metadata": {},
   "outputs": [],
   "source": [
    "input_cols = ['date', 'season', 'team', 'home/visitor', 'opponent']\n",
    "output_cols = ['moneyLine', 'total', 'spread', 'secondHalfTotal', 'score', 'winner']"
   ]
  }
 ],
 "metadata": {
  "kernelspec": {
   "display_name": "Python 3",
   "language": "python",
   "name": "python3"
  },
  "language_info": {
   "codemirror_mode": {
    "name": "ipython",
    "version": 3
   },
   "file_extension": ".py",
   "mimetype": "text/x-python",
   "name": "python",
   "nbconvert_exporter": "python",
   "pygments_lexer": "ipython3",
   "version": "3.10.13"
  }
 },
 "nbformat": 4,
 "nbformat_minor": 2
}
